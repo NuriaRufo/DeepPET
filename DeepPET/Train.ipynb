{
 "cells": [
  {
   "cell_type": "code",
   "execution_count": null,
   "id": "e07b1451-2499-4fee-aabe-20af43ce830d",
   "metadata": {},
   "outputs": [],
   "source": [
    "# Test deepPET cargando imágenes cargadas directamente con matlab (ficheros mat)\n",
    "import os\n",
    "os.environ['TF_FORCE_GPU_ALLOW_GROWTH'] = 'true'\n",
    "os.environ[\"CUDA_VISIBLE_DEVICES\"]=\"0\"\n",
    "import tensorflow as tf\n",
    "import pandas.util.testing as tm\n",
    "print(\"Num GPUs Available: \", len(tf.config.list_physical_devices('GPU')))\n",
    "tf.test.gpu_device_name()"
   ]
  },
  {
   "cell_type": "code",
   "execution_count": null,
   "id": "8a5780a0-8086-4b88-8cf7-b84d15df5b9b",
   "metadata": {},
   "outputs": [],
   "source": [
    "import time\n",
    "import numpy as np\n",
    "import scipy.io as sio\n",
    "import matplotlib.pyplot as plt\n",
    "from skimage import util\n",
    "import random\n",
    "import cv2\n",
    "from tensorflow.keras.models import load_model\n",
    "\n",
    "from loadDataTomodel import load_data,batch_generator\n",
    "from  deepPETmodel_128 import deepPETmodel2"
   ]
  },
  {
   "cell_type": "code",
   "execution_count": null,
   "id": "5d035b1d-085e-4144-9b6e-6bdb1fe2dd07",
   "metadata": {
    "tags": []
   },
   "outputs": [],
   "source": [
    "\n",
    "# LOAD YOUR VALIDATION DATA\n",
    "\n",
    "path='/home/nrufo/Final_final/Data_original/set1/Validation_data/'\n",
    "fileImage = 'ValidationImages.npy'\n",
    "fileSinogram = 'ValidationSinograms.npy'\n",
    "\n",
    "Y_validation = np.load(path + fileImage)\n",
    "X_validation = np.load(path + fileSinogram)\n",
    "\n",
    "# ADD NOISE TO SINOGRAMS\n",
    "noiseFactor = 160\n",
    "X_validation= X_validation*noiseFactor\n",
    "X_validation = np.random.poisson(X_validation)\n",
    "\n",
    "'''\n",
    "#LOAD YOUR TRAINING DATA THAT IS NOT IN BATCHES\n",
    "Y_train=np.load('ValidationImages.npy')\n",
    "X_train=np.load('ValidationSinograms.npy')\n",
    "\n",
    "X_train= X_train*noiseFactor\n",
    "X_train = np.random.poisson(X_train)\n",
    "'''"
   ]
  },
  {
   "cell_type": "code",
   "execution_count": null,
   "id": "59cfddfb-9df2-492d-845b-121a7dbcbc7b",
   "metadata": {},
   "outputs": [],
   "source": [
    "# VISUALIZE YOUR DATASET\n",
    "'''\n",
    "#if it is in batches\n",
    "nSet=374\n",
    "path='/home/nrufo/Final_final/Data/SET_1/Train_data/'\n",
    "\n",
    "pathx= path+str(nSet)+'_setXtrain.npy'\n",
    "pathy= path+str(nSet)+'_setYtrain.npy'\n",
    "X_train = np.load(pathx)\n",
    "Y_train = np.load(pathy)\n",
    "'''\n",
    "nIm=390\n",
    "\n",
    "Image = np.squeeze(Y_validation[nIm,:,:])\n",
    "sinogram = np.squeeze(X_validation[nIm,:,:])\n",
    "\n",
    "\n",
    "plt.subplot(131),plt.imshow(Image, cmap='gray')\n",
    "plt.subplot(132),plt.imshow(sinogram, cmap='gray')"
   ]
  },
  {
   "cell_type": "code",
   "execution_count": null,
   "id": "74d7a364-6721-4971-aa66-6d7ad17aaa99",
   "metadata": {},
   "outputs": [],
   "source": [
    "# CREATE YOUR MODEL\n",
    "\n",
    "learning_rate = 0.0001\n",
    "model = deepPETmodel2(X_validation.shape, learning_rate)\n",
    "model.summary()"
   ]
  },
  {
   "cell_type": "code",
   "execution_count": null,
   "id": "f399f4fd-2efe-4712-9620-c4ab38d20e70",
   "metadata": {},
   "outputs": [],
   "source": [
    "# TRAIN YOUR MODEL \n",
    "\n",
    "history = model.fit(X_train, Y_train, epochs = 125, batch_size = 32, validation_data=(X_validation, Y_validation ),callbacks=[WandbCallback()])\n",
    "path='Models/Elip1_14_05_Noisy.h5' #path to save your new model\n",
    "model.save(path)"
   ]
  },
  {
   "cell_type": "code",
   "execution_count": null,
   "id": "4934e320-6675-44ae-b883-283a0de706bf",
   "metadata": {},
   "outputs": [],
   "source": [
    "# TRAIN YOUR MODEL WITH BATCH DATASET\n",
    "\n",
    "bs=32\n",
    "numberBatches= 4535 #\n",
    "train_generator = batch_generator(numberBatches, batch_size = bs)\n",
    "history= model.fit(train_generator ,epochs = 125,steps_per_epoch=(numberBatches*bs)//bs,validation_data=(X_validation, Y_validation ),callbacks=[WandbCallback()] )\n",
    "\n",
    "#callbacks=[WandbCallback()]\n",
    "# SAVE YOUR MODEL\n",
    "path='/home/nrufo/Final_final/'\n",
    "pathfile=path+'06_06_AllCuts.h5' #path to save your new model\n",
    "model.save(path)"
   ]
  },
  {
   "cell_type": "code",
   "execution_count": null,
   "id": "7379ace6-99e5-4d43-81df-4b2bdcbe4666",
   "metadata": {},
   "outputs": [],
   "source": [
    "# SAVE YOUR MODEL\n",
    "path='/home/nrufo/Final_final/Models/'\n",
    "nameModel = '18_05_RMS.h5'\n",
    "pathfile=path+ nameModel #path to save your new model\n",
    "model.save(path)"
   ]
  },
  {
   "cell_type": "code",
   "execution_count": null,
   "id": "b272fa07-5142-4203-b0e4-2b3d6874f87b",
   "metadata": {},
   "outputs": [],
   "source": [
    "# LOAD MODELS\n",
    "\n",
    "path='/home/nrufo/Final_final/Models/'\n",
    "fileModel=path+'18_05_RMS.h5' #path to load your new model\n",
    "model= load_model(fileModel)  "
   ]
  },
  {
   "cell_type": "code",
   "execution_count": null,
   "id": "98911446-9565-48e0-92d8-e9b1b0079c48",
   "metadata": {},
   "outputs": [],
   "source": [
    "# EVALUATE YOUR MODEL\n",
    "\n",
    "path='/home/nrufo/Final_final/Data_original/set1/Test_data/'\n",
    "\n",
    "Y_test=np.load(path+'TestImages.npy')\n",
    "X_test=np.load(path+'TestSinograms.npy')\n",
    "\n",
    "# Add noise to sinograms\n",
    "noiseFactor=160\n",
    "X_test= X_test*noiseFactor\n",
    "X_test = np.random.poisson(X_test)\n",
    "# DeepPET reconstruction\n",
    "\n",
    "\n",
    "preds = model.evaluate(x = X_test, y = Y_test)\n",
    "print()\n",
    "\n",
    "print (\"Loss = \" + str(preds[0]))\n",
    "\n",
    "print (\"Test Accuracy = \" + str(preds[1]))"
   ]
  },
  {
   "cell_type": "code",
   "execution_count": null,
   "id": "33893548-bba6-4fc9-85c2-dd09964c9b2b",
   "metadata": {},
   "outputs": [],
   "source": [
    "#VISUALIZE RESULTS\n",
    "\n",
    "imgID=260\n",
    "img_predict=model.predict(X_test) \n",
    "img_result_train=np.squeeze(img_predict[imgID,:,:])\n",
    "\n",
    "Image = np.squeeze(np.squeeze(Y_test[imgID,:,:]))\n",
    "sinogram= np.squeeze(np.squeeze(X_test[imgID,:,:]))\n",
    "\n",
    "plt.subplot(131), plt.imshow(sinogram, cmap='gray')\n",
    "plt.title('Original test set'), plt.xticks([]), plt.yticks([])\n",
    "\n",
    "plt.subplot(132), plt.imshow(Image, cmap='gray')\n",
    "plt.title('Ground truth'), plt.xticks([]), plt.yticks([])\n",
    "\n",
    "plt.subplot(133), plt.imshow(img_result_train, cmap='gray')\n",
    "plt.title('Recon by DeepPET'), plt.xticks([]), plt.yticks([])\n",
    "\n",
    "plt.show()\n"
   ]
  },
  {
   "cell_type": "code",
   "execution_count": null,
   "id": "54a94eb0-0ac9-4b33-80fc-b557c3722b06",
   "metadata": {},
   "outputs": [],
   "source": [
    "# VISUALIZE YOUR MODEL'S PROGRESS WHILE TRAINING\n",
    "\n",
    "print(history.history.keys())\n",
    "\n",
    "# summarize history for loss\n",
    "plt.plot(history.history['loss'])\n",
    "plt.plot(history.history['val_loss'])\n",
    "plt.title('model loss')\n",
    "plt.ylabel('loss')\n",
    "plt.xlabel('epoch')\n",
    "plt.legend(['train', 'test'], loc='upper left')\n",
    "plt.show()"
   ]
  },
  {
   "cell_type": "code",
   "execution_count": null,
   "id": "204c006a-187d-4a21-b3fe-555b0dff00d0",
   "metadata": {},
   "outputs": [],
   "source": [
    "tf.keras.backend.clear_session() "
   ]
  }
 ],
 "metadata": {
  "kernelspec": {
   "display_name": "Python 3",
   "language": "python",
   "name": "python3"
  },
  "language_info": {
   "codemirror_mode": {
    "name": "ipython",
    "version": 3
   },
   "file_extension": ".py",
   "mimetype": "text/x-python",
   "name": "python",
   "nbconvert_exporter": "python",
   "pygments_lexer": "ipython3",
   "version": "3.7.13"
  }
 },
 "nbformat": 4,
 "nbformat_minor": 5
}
